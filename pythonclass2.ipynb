{
  "nbformat": 4,
  "nbformat_minor": 0,
  "metadata": {
    "colab": {
      "name": "pythonclass2.ipynb",
      "provenance": [],
      "authorship_tag": "ABX9TyNeiRlS2SigWmZfzby5tGmB",
      "include_colab_link": true
    },
    "kernelspec": {
      "name": "python3",
      "display_name": "Python 3"
    },
    "language_info": {
      "name": "python"
    }
  },
  "cells": [
    {
      "cell_type": "markdown",
      "metadata": {
        "id": "view-in-github",
        "colab_type": "text"
      },
      "source": [
        "<a href=\"https://colab.research.google.com/github/Youtank/pythonclass/blob/main/pythonclass2.ipynb\" target=\"_parent\"><img src=\"https://colab.research.google.com/assets/colab-badge.svg\" alt=\"Open In Colab\"/></a>"
      ]
    },
    {
      "cell_type": "code",
      "execution_count": 50,
      "metadata": {
        "colab": {
          "base_uri": "https://localhost:8080/",
          "height": 137
        },
        "id": "bdcybkxN_S6v",
        "outputId": "d7df4d09-2921-41fd-822b-38ab37c5f40c"
      },
      "outputs": [
        {
          "output_type": "error",
          "ename": "SyntaxError",
          "evalue": "ignored",
          "traceback": [
            "\u001b[0;36m  File \u001b[0;32m\"<ipython-input-50-ab86ac79abfc>\"\u001b[0;36m, line \u001b[0;32m3\u001b[0m\n\u001b[0;31m    int   정수 1,2,3,4\u001b[0m\n\u001b[0m           ^\u001b[0m\n\u001b[0;31mSyntaxError\u001b[0m\u001b[0;31m:\u001b[0m invalid syntax\n"
          ]
        }
      ],
      "source": [
        "#3 기본 자료형 (page33)\n",
        "\n",
        "int   정수 1,2,3,4\n",
        "float 실수 3.14, 2.18\n",
        "bool  논리 True, false\n",
        "str 문자열 홍길동' '슈가'"
      ]
    },
    {
      "cell_type": "code",
      "source": [
        "#1. 정수 int\n",
        "\n",
        "int(1,9)\n",
        "\n"
      ],
      "metadata": {
        "colab": {
          "base_uri": "https://localhost:8080/",
          "height": 229
        },
        "id": "wiv13jAZAE8x",
        "outputId": "8d7b32ee-6887-453a-ee1a-4e4e046d3c82"
      },
      "execution_count": 5,
      "outputs": [
        {
          "output_type": "error",
          "ename": "TypeError",
          "evalue": "ignored",
          "traceback": [
            "\u001b[0;31m---------------------------------------------------------------------------\u001b[0m",
            "\u001b[0;31mTypeError\u001b[0m                                 Traceback (most recent call last)",
            "\u001b[0;32m<ipython-input-5-ac6b75b2fb30>\u001b[0m in \u001b[0;36m<module>\u001b[0;34m()\u001b[0m\n\u001b[1;32m      1\u001b[0m \u001b[0;31m#1. 정수 int\u001b[0m\u001b[0;34m\u001b[0m\u001b[0;34m\u001b[0m\u001b[0;34m\u001b[0m\u001b[0m\n\u001b[1;32m      2\u001b[0m \u001b[0;34m\u001b[0m\u001b[0m\n\u001b[0;32m----> 3\u001b[0;31m \u001b[0mint\u001b[0m\u001b[0;34m(\u001b[0m\u001b[0;36m1\u001b[0m\u001b[0;34m,\u001b[0m\u001b[0;36m9\u001b[0m\u001b[0;34m)\u001b[0m\u001b[0;34m\u001b[0m\u001b[0;34m\u001b[0m\u001b[0m\n\u001b[0m\u001b[1;32m      4\u001b[0m \u001b[0;36m1\u001b[0m\u001b[0;34m\u001b[0m\u001b[0;34m\u001b[0m\u001b[0m\n",
            "\u001b[0;31mTypeError\u001b[0m: int() can't convert non-string with explicit base"
          ]
        }
      ]
    },
    {
      "cell_type": "code",
      "source": [
        ""
      ],
      "metadata": {
        "id": "OaydWKLbKep6"
      },
      "execution_count": null,
      "outputs": []
    },
    {
      "cell_type": "code",
      "source": [
        "3 int(True)"
      ],
      "metadata": {
        "colab": {
          "base_uri": "https://localhost:8080/",
          "height": 137
        },
        "id": "vUHkJoe1BA9P",
        "outputId": "ce87b4d5-963b-4916-8eb8-bd10b869013e"
      },
      "execution_count": 4,
      "outputs": [
        {
          "output_type": "error",
          "ename": "SyntaxError",
          "evalue": "ignored",
          "traceback": [
            "\u001b[0;36m  File \u001b[0;32m\"<ipython-input-4-82eb67e64c72>\"\u001b[0;36m, line \u001b[0;32m1\u001b[0m\n\u001b[0;31m    3 int(True)\u001b[0m\n\u001b[0m        ^\u001b[0m\n\u001b[0;31mSyntaxError\u001b[0m\u001b[0;31m:\u001b[0m invalid syntax\n"
          ]
        }
      ]
    },
    {
      "cell_type": "code",
      "source": [
        "# 2. 실수  float\n",
        "\n",
        "int('100')\n",
        "int('200')\n",
        "#큰따옴표 또느,따음표안에 숫자는 숫자가 아니다\n",
        "#float\n",
        "\n",
        "float(False)\n",
        "0.0\n",
        "intput ('숫자를 입력하세요'>>>)\n",
        "        "
      ],
      "metadata": {
        "colab": {
          "base_uri": "https://localhost:8080/",
          "height": 137
        },
        "id": "ucQtCIzlDZ5b",
        "outputId": "e4f854ee-55e6-45e1-f755-12f679d9ea40"
      },
      "execution_count": 9,
      "outputs": [
        {
          "output_type": "error",
          "ename": "SyntaxError",
          "evalue": "ignored",
          "traceback": [
            "\u001b[0;36m  File \u001b[0;32m\"<ipython-input-9-974bdc899ca6>\"\u001b[0;36m, line \u001b[0;32m10\u001b[0m\n\u001b[0;31m    intput ('숫자를 입력하세요'>>>)\u001b[0m\n\u001b[0m                         ^\u001b[0m\n\u001b[0;31mSyntaxError\u001b[0m\u001b[0;31m:\u001b[0m invalid syntax\n"
          ]
        }
      ]
    },
    {
      "cell_type": "code",
      "source": [
        "#논리, bool\n"
      ],
      "metadata": {
        "id": "mJfMWBX8F6QQ"
      },
      "execution_count": null,
      "outputs": []
    },
    {
      "cell_type": "code",
      "source": [
        "#4 문자열 str.strimg\n",
        "a= '대한\\n민국'\n",
        "b= '한국'\n",
        "\n",
        "a='''대한\n",
        "민국'''\n",
        "a=\"\"\"대한\n",
        "민국\"\"\"\n",
        "\n",
        "print(a)"
      ],
      "metadata": {
        "colab": {
          "base_uri": "https://localhost:8080/"
        },
        "id": "9jWyrlF9GnKG",
        "outputId": "31302eff-e2e2-414d-f1f0-8a7f09a85d44"
      },
      "execution_count": 11,
      "outputs": [
        {
          "output_type": "stream",
          "name": "stdout",
          "text": [
            "대한\n",
            "민국\n"
          ]
        }
      ]
    },
    {
      "cell_type": "code",
      "source": [
        "str(100)"
      ],
      "metadata": {
        "colab": {
          "base_uri": "https://localhost:8080/",
          "height": 35
        },
        "id": "0uEA7bcaH7_f",
        "outputId": "184da0d7-7d48-4553-f99a-4691d02f99ed"
      },
      "execution_count": 12,
      "outputs": [
        {
          "output_type": "execute_result",
          "data": {
            "application/vnd.google.colaboratory.intrinsic+json": {
              "type": "string"
            },
            "text/plain": [
              "'100'"
            ]
          },
          "metadata": {},
          "execution_count": 12
        }
      ]
    },
    {
      "cell_type": "code",
      "source": [
        "str(true)"
      ],
      "metadata": {
        "id": "psB7jc6gIFFq"
      },
      "execution_count": null,
      "outputs": []
    },
    {
      "cell_type": "code",
      "source": [
        "#문자열 인덱싱(indexing)\n",
        "# 인덱씽은 무라열을 구성하는 모든 문자에 부여한 고유의 번호이다.\n",
        "\n",
        "s='hello'\n",
        "print(s[0]) #인덱싱의시작은 0이다.\n",
        "# h e l l o\n",
        "# 0 1 2 3 4  각뮨자의인덱스번호\n"
      ],
      "metadata": {
        "colab": {
          "base_uri": "https://localhost:8080/"
        },
        "id": "VS6LVGEBIU88",
        "outputId": "baab7196-bc79-4026-98ed-39dd41c5a98e"
      },
      "execution_count": 14,
      "outputs": [
        {
          "output_type": "stream",
          "name": "stdout",
          "text": [
            "h\n"
          ]
        }
      ]
    },
    {
      "cell_type": "code",
      "source": [
        "# h e l l o\n",
        "#         -1\n",
        "s=  'hello'\n",
        "print(s[-1])"
      ],
      "metadata": {
        "colab": {
          "base_uri": "https://localhost:8080/"
        },
        "id": "wreK4_KCNykf",
        "outputId": "62292d89-83be-457b-b56f-b041ed38bb31"
      },
      "execution_count": 16,
      "outputs": [
        {
          "output_type": "stream",
          "name": "stdout",
          "text": [
            "o\n"
          ]
        }
      ]
    },
    {
      "cell_type": "code",
      "source": [
        ""
      ],
      "metadata": {
        "id": "yC35OeuIQMPg"
      },
      "execution_count": null,
      "outputs": []
    },
    {
      "cell_type": "code",
      "source": [
        "#  h e l l o\n",
        "#-5 -4 -3 -2 -1"
      ],
      "metadata": {
        "id": "Ps0FSyH3OVEu"
      },
      "execution_count": null,
      "outputs": []
    },
    {
      "cell_type": "code",
      "source": [
        "#문자열 슬라이싱\n",
        "#문자얄의 인덱스를 사용하여  한문자 이상으로 구성된 단어나 문장을 추출\n",
        "\n",
        "\n",
        "s='banana' \n",
        "s[0:3 ]        #star:stop #stop 까지가 아닌 미만으로 계산한다."
      ],
      "metadata": {
        "colab": {
          "base_uri": "https://localhost:8080/",
          "height": 35
        },
        "id": "S8C-PfnNOgEN",
        "outputId": "4f8098a2-3bfa-45b3-d440-a3f1e1f90cd8"
      },
      "execution_count": 20,
      "outputs": [
        {
          "output_type": "execute_result",
          "data": {
            "application/vnd.google.colaboratory.intrinsic+json": {
              "type": "string"
            },
            "text/plain": [
              "'ban'"
            ]
          },
          "metadata": {},
          "execution_count": 20
        }
      ]
    },
    {
      "cell_type": "code",
      "source": [
        ""
      ],
      "metadata": {
        "id": "Rh5uFxO9QHGc"
      },
      "execution_count": null,
      "outputs": []
    },
    {
      "cell_type": "code",
      "source": [
        "addr = '서울시 강남구 역삼동 1번지'"
      ],
      "metadata": {
        "id": "_t9JtWc-Ojzl"
      },
      "execution_count": 30,
      "outputs": []
    },
    {
      "cell_type": "code",
      "source": [
        "#컬렉션  collectionm\n",
        "#여러값을 하나의이름으로 묵어서 관리하는 자료형\n",
        "#리스트 list 튜플tuple딕셔너리dict  셋set"
      ],
      "metadata": {
        "id": "tM6LqCXLQN8h"
      },
      "execution_count": null,
      "outputs": []
    },
    {
      "cell_type": "code",
      "source": [
        "#리스트 list\n",
        "#리스트 리스튼느 여러값 저장할때 가장많이 사용되는 자료형이다\n",
        "#특징\n",
        "#1 대괄호를 생성한다\n",
        "#2 여러가지 재료형 을 하나의 리스트로 생성할수있다.\n",
        "#3 mutable한 속성을 갖는다 ,(수정 삭제가 가능 하다)\n",
        "#4 indexing,slicing 이 가능하다"
      ],
      "metadata": {
        "id": "bK-LQ5dQQ-8D"
      },
      "execution_count": 51,
      "outputs": []
    },
    {
      "cell_type": "code",
      "source": [
        "list1 = [1,2,3,4]\n",
        "list2 = [1,2,3,'대','한','true']"
      ],
      "metadata": {
        "id": "VDLWQjV7Rgns"
      },
      "execution_count": 53,
      "outputs": []
    },
    {
      "cell_type": "code",
      "source": [
        ""
      ],
      "metadata": {
        "id": "u9K43V6SSNms"
      },
      "execution_count": 51,
      "outputs": []
    },
    {
      "cell_type": "code",
      "source": [
        "li=[100,3.14,'hello']\n",
        "\n",
        "li[2]"
      ],
      "metadata": {
        "colab": {
          "base_uri": "https://localhost:8080/",
          "height": 35
        },
        "id": "A7XPPPhkT3WV",
        "outputId": "e342b380-a670-4cc2-84d4-fccd23df2a3c"
      },
      "execution_count": 29,
      "outputs": [
        {
          "output_type": "execute_result",
          "data": {
            "application/vnd.google.colaboratory.intrinsic+json": {
              "type": "string"
            },
            "text/plain": [
              "'hello'"
            ]
          },
          "metadata": {},
          "execution_count": 29
        }
      ]
    },
    {
      "cell_type": "code",
      "source": [
        "li[0]##start:stop (미만)\n",
        "\n",
        "\n"
      ],
      "metadata": {
        "id": "a24eXbVwUhRt"
      },
      "execution_count": null,
      "outputs": []
    },
    {
      "cell_type": "code",
      "source": [
        "#append- 이스트에 데이터를 추가\n",
        "scores = [50,40,30]\n",
        "scores.append(100) #값을 투가할때 가용하는 ()\n",
        "scores\n",
        "\n"
      ],
      "metadata": {
        "colab": {
          "base_uri": "https://localhost:8080/"
        },
        "id": "0amxNxQkVUnA",
        "outputId": "1aff84f5-2528-4e15-a9c7-e2a8bf367fea"
      },
      "execution_count": 43,
      "outputs": [
        {
          "output_type": "execute_result",
          "data": {
            "text/plain": [
              "[50, 40, 30, 100]"
            ]
          },
          "metadata": {},
          "execution_count": 43
        }
      ]
    },
    {
      "cell_type": "code",
      "source": [
        "#insert\n",
        "scores.insert(0,90)\n",
        "scores"
      ],
      "metadata": {
        "colab": {
          "base_uri": "https://localhost:8080/"
        },
        "id": "w3rqIHNPW1sh",
        "outputId": "383add81-ae57-43e6-a1f8-9dcba885f452"
      },
      "execution_count": 45,
      "outputs": [
        {
          "output_type": "execute_result",
          "data": {
            "text/plain": [
              "[90, 50, 40, 30, 100]"
            ]
          },
          "metadata": {},
          "execution_count": 45
        }
      ]
    },
    {
      "cell_type": "code",
      "source": [
        "#opop() 리스트에서 데이터를 삭제\n",
        "scores = [50,40,30]\n",
        "scores.pop()\n",
        "scores"
      ],
      "metadata": {
        "colab": {
          "base_uri": "https://localhost:8080/"
        },
        "id": "EdyQ4rqBXTHT",
        "outputId": "edf59f12-21bb-433a-860f-5d5b23e52a7e"
      },
      "execution_count": 54,
      "outputs": [
        {
          "output_type": "execute_result",
          "data": {
            "text/plain": [
              "[50, 40]"
            ]
          },
          "metadata": {},
          "execution_count": 54
        }
      ]
    },
    {
      "cell_type": "code",
      "source": [
        "scores.pop(0)\n",
        "scores"
      ],
      "metadata": {
        "colab": {
          "base_uri": "https://localhost:8080/"
        },
        "id": "ZvUMapUAaWrD",
        "outputId": "7fe36ef3-ac6a-40cd-90fa-9a2e0f0bd739"
      },
      "execution_count": 55,
      "outputs": [
        {
          "output_type": "execute_result",
          "data": {
            "text/plain": [
              "[40]"
            ]
          },
          "metadata": {},
          "execution_count": 55
        }
      ]
    },
    {
      "cell_type": "code",
      "source": [
        "#튜플 tuple\n",
        "#저장된 값을 변경할수 없는 리스트\n",
        "#소괄호로 생성한다() 튜플은  생성할수있다.\n",
        "#imutable 한  속성을 갖는다(수정 삭제 불가)\n",
        "#indexing,slicing 이 가능하다\n",
        "#1개의 원소를 갖는 튜플을 생성할때 쉼표를 붙인다.\n",
        "\n"
      ],
      "metadata": {
        "id": "Q_b3VzsOaslL"
      },
      "execution_count": null,
      "outputs": []
    },
    {
      "cell_type": "code",
      "source": [
        "# tu=(1,\n",
        "#print"
      ],
      "metadata": {
        "id": "wCI78vgPcNmi"
      },
      "execution_count": null,
      "outputs": []
    },
    {
      "cell_type": "code",
      "source": [
        "tu= 1,2,3,4,5"
      ],
      "metadata": {
        "id": "_zRdZplocnum"
      },
      "execution_count": 56,
      "outputs": []
    },
    {
      "cell_type": "code",
      "source": [
        "tu.append"
      ],
      "metadata": {
        "colab": {
          "base_uri": "https://localhost:8080/",
          "height": 174
        },
        "id": "vGEYOnBoc0kK",
        "outputId": "5c9b7f4a-23f1-42c1-ed68-966f6b7a7b8f"
      },
      "execution_count": 57,
      "outputs": [
        {
          "output_type": "error",
          "ename": "AttributeError",
          "evalue": "ignored",
          "traceback": [
            "\u001b[0;31m---------------------------------------------------------------------------\u001b[0m",
            "\u001b[0;31mAttributeError\u001b[0m                            Traceback (most recent call last)",
            "\u001b[0;32m<ipython-input-57-6791bac18ac2>\u001b[0m in \u001b[0;36m<module>\u001b[0;34m()\u001b[0m\n\u001b[0;32m----> 1\u001b[0;31m \u001b[0mtu\u001b[0m\u001b[0;34m.\u001b[0m\u001b[0mappend\u001b[0m\u001b[0;34m\u001b[0m\u001b[0;34m\u001b[0m\u001b[0m\n\u001b[0m",
            "\u001b[0;31mAttributeError\u001b[0m: 'tuple' object has no attribute 'append'"
          ]
        }
      ]
    },
    {
      "cell_type": "code",
      "source": [
        "tu = 1,2,3,4,5\n",
        "tu[0]"
      ],
      "metadata": {
        "colab": {
          "base_uri": "https://localhost:8080/"
        },
        "id": "tuWxL9WudM7o",
        "outputId": "b81abb05-6e43-4fe7-a8ba-459afe42a71b"
      },
      "execution_count": 58,
      "outputs": [
        {
          "output_type": "execute_result",
          "data": {
            "text/plain": [
              "1"
            ]
          },
          "metadata": {},
          "execution_count": 58
        }
      ]
    },
    {
      "cell_type": "code",
      "source": [
        "tu = [0:3]"
      ],
      "metadata": {
        "id": "_1CafraPdVDQ"
      },
      "execution_count": null,
      "outputs": []
    },
    {
      "cell_type": "code",
      "source": [
        "#Set 셋\n",
        "\n",
        "\n",
        "#특징\n",
        "#1 중괄호를 생성한다\n",
        "#2 여러가지 재료형 을 하나의 셋으로 생성할수있다.\n",
        "#3 mutable한 속성을 갖는다 ,(수정 삭제가 가능 하다)\n",
        "#4 indexing,slicing 이 불가능하다.순서가 없다\n",
        "#5 중복된 데이터를 함꼐 저장할수없다.(중복 불가능)\n",
        "\n",
        "set = {1,1,1,2,2,3}\n",
        "set"
      ],
      "metadata": {
        "colab": {
          "base_uri": "https://localhost:8080/"
        },
        "id": "N2TKAloyecrT",
        "outputId": "b1789f9a-e296-4aa3-baeb-6f0f49155810"
      },
      "execution_count": 63,
      "outputs": [
        {
          "output_type": "execute_result",
          "data": {
            "text/plain": [
              "{1, 2, 3}"
            ]
          },
          "metadata": {},
          "execution_count": 63
        }
      ]
    },
    {
      "cell_type": "code",
      "source": [
        "set.add(4)\n",
        "set \n",
        "{1,2,3,4}\n"
      ],
      "metadata": {
        "colab": {
          "base_uri": "https://localhost:8080/"
        },
        "id": "sFbiTztMfhGm",
        "outputId": "62157b82-ecee-42b7-949e-a88e71b4f5f6"
      },
      "execution_count": 64,
      "outputs": [
        {
          "output_type": "execute_result",
          "data": {
            "text/plain": [
              "{1, 2, 3, 4}"
            ]
          },
          "metadata": {},
          "execution_count": 64
        }
      ]
    },
    {
      "cell_type": "code",
      "source": [
        "set.remove(3)\n",
        "set\n",
        "{1,2,4}"
      ],
      "metadata": {
        "colab": {
          "base_uri": "https://localhost:8080/"
        },
        "id": "BBLLNTTUf5c9",
        "outputId": "9e04326a-f738-4495-9462-240f9fbead03"
      },
      "execution_count": 65,
      "outputs": [
        {
          "output_type": "execute_result",
          "data": {
            "text/plain": [
              "{1, 2, 4}"
            ]
          },
          "metadata": {},
          "execution_count": 65
        }
      ]
    },
    {
      "cell_type": "code",
      "source": [
        "#dict 딕셔너리 키값과 벨루 값의쌍으로 데이터를 저정하는 제료형\n",
        "#자바에서의map js에서의json과 유사한 파이썬의 자료형\n",
        "\n",
        "\n",
        "\n",
        "\n"
      ],
      "metadata": {
        "id": "SrxxTdAkgG3h"
      },
      "execution_count": null,
      "outputs": []
    },
    {
      "cell_type": "code",
      "source": [
        "dict \n",
        "\n",
        "#특징\n",
        "#1 중괄호를 생성한다\n",
        "#2 여러가지 재료형 을 하나의 셋으로 생성할수있다.\n",
        "#3 mutable한 속성을 갖는다 ,(수정 삭제가 가능 하다)\n",
        "#4 indexing,slicing 이 불가능하다.순서가 없다\n",
        "#5 중복된 데이터를 함꼐 저장할수없다.(중복 불가능)\n",
        "\n",
        "dict = {'name':'홍길동','age':24}"
      ],
      "metadata": {
        "id": "K6Hv1BGJhJHk"
      },
      "execution_count": 68,
      "outputs": []
    },
    {
      "cell_type": "code",
      "source": [
        "\n",
        "\n"
      ],
      "metadata": {
        "colab": {
          "base_uri": "https://localhost:8080/"
        },
        "outputId": "b1789f9a-e296-4aa3-baeb-6f0f49155810",
        "id": "oyW3zUjAg0MW"
      },
      "execution_count": null,
      "outputs": [
        {
          "output_type": "execute_result",
          "data": {
            "text/plain": [
              "{1, 2, 3}"
            ]
          },
          "metadata": {},
          "execution_count": 63
        }
      ]
    },
    {
      "cell_type": "code",
      "source": [
        "\n",
        "d ['c'] = cherry"
      ],
      "metadata": {
        "colab": {
          "base_uri": "https://localhost:8080/",
          "height": 193
        },
        "id": "zCbatUtjiOeO",
        "outputId": "a4bd034d-7c78-49b3-d96d-18bc29dae116"
      },
      "execution_count": 69,
      "outputs": [
        {
          "output_type": "error",
          "ename": "NameError",
          "evalue": "ignored",
          "traceback": [
            "\u001b[0;31m---------------------------------------------------------------------------\u001b[0m",
            "\u001b[0;31mNameError\u001b[0m                                 Traceback (most recent call last)",
            "\u001b[0;32m<ipython-input-69-5f62219d2c04>\u001b[0m in \u001b[0;36m<module>\u001b[0;34m()\u001b[0m\n\u001b[1;32m      1\u001b[0m \u001b[0;34m\u001b[0m\u001b[0m\n\u001b[0;32m----> 2\u001b[0;31m \u001b[0md\u001b[0m \u001b[0;34m[\u001b[0m\u001b[0;34m'c'\u001b[0m\u001b[0;34m]\u001b[0m \u001b[0;34m=\u001b[0m \u001b[0mcherry\u001b[0m\u001b[0;34m\u001b[0m\u001b[0;34m\u001b[0m\u001b[0m\n\u001b[0m",
            "\u001b[0;31mNameError\u001b[0m: name 'cherry' is not defined"
          ]
        }
      ]
    },
    {
      "cell_type": "code",
      "source": [
        "mutabel:리스트,셋,딕셔너리\n",
        "immutable : 튜플,정수,실수,문자열"
      ],
      "metadata": {
        "id": "5HSN6COyi4sO"
      },
      "execution_count": null,
      "outputs": []
    },
    {
      "cell_type": "code",
      "source": [
        "me= [1,2,3]\n",
        "id  #실제 데이터가 저장된 메모리위치"
      ],
      "metadata": {
        "colab": {
          "base_uri": "https://localhost:8080/"
        },
        "id": "-Zn7GRVUjSSI",
        "outputId": "af80c838-10c7-47fb-e4f6-bdb6eb534049"
      },
      "execution_count": 70,
      "outputs": [
        {
          "output_type": "execute_result",
          "data": {
            "text/plain": [
              "<function id>"
            ]
          },
          "metadata": {},
          "execution_count": 70
        }
      ]
    },
    {
      "cell_type": "code",
      "source": [
        "im"
      ],
      "metadata": {
        "id": "L7DjF1s4kJxN"
      },
      "execution_count": null,
      "outputs": []
    }
  ]
}